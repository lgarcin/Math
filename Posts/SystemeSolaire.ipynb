{
 "cells": [
  {
   "cell_type": "code",
   "execution_count": 1,
   "metadata": {
    "collapsed": false
   },
   "outputs": [
    {
     "ename": "ModuleNotFoundError",
     "evalue": "No module named 'vpython'",
     "traceback": [
      "\u001b[0;31m---------------------------------------------------------------------------\u001b[0m",
      "\u001b[0;31mModuleNotFoundError\u001b[0m                       Traceback (most recent call last)",
      "\u001b[0;32m<ipython-input-1-d84c078fb1cf>\u001b[0m in \u001b[0;36m<module>\u001b[0;34m()\u001b[0m\n\u001b[0;32m----> 1\u001b[0;31m \u001b[1;32mfrom\u001b[0m \u001b[0mvpython\u001b[0m \u001b[1;32mimport\u001b[0m \u001b[1;33m*\u001b[0m\u001b[1;33m\u001b[0m\u001b[0m\n\u001b[0m\u001b[1;32m      2\u001b[0m \u001b[1;33m\u001b[0m\u001b[0m\n\u001b[1;32m      3\u001b[0m \u001b[1;32mdef\u001b[0m \u001b[0minit\u001b[0m\u001b[1;33m(\u001b[0m\u001b[0mperihelie\u001b[0m\u001b[1;33m,\u001b[0m\u001b[0mmasse\u001b[0m\u001b[1;33m,\u001b[0m\u001b[0mvitesse\u001b[0m\u001b[1;33m,\u001b[0m\u001b[0mrayon\u001b[0m\u001b[1;33m,\u001b[0m\u001b[0mcouleur\u001b[0m\u001b[1;33m,\u001b[0m\u001b[0minclinaison\u001b[0m\u001b[1;33m,\u001b[0m\u001b[0mnoeud\u001b[0m\u001b[1;33m,\u001b[0m\u001b[0margument\u001b[0m\u001b[1;33m)\u001b[0m\u001b[1;33m:\u001b[0m\u001b[1;33m\u001b[0m\u001b[0m\n\u001b[1;32m      4\u001b[0m     \u001b[0mp\u001b[0m\u001b[1;33m=\u001b[0m\u001b[0mvector\u001b[0m\u001b[1;33m(\u001b[0m\u001b[0mperihelie\u001b[0m\u001b[1;33m,\u001b[0m\u001b[1;36m0\u001b[0m\u001b[1;33m,\u001b[0m\u001b[1;36m0\u001b[0m\u001b[1;33m)\u001b[0m\u001b[1;33m\u001b[0m\u001b[0m\n\u001b[1;32m      5\u001b[0m     \u001b[0ma\u001b[0m\u001b[1;33m=\u001b[0m\u001b[0mp\u001b[0m\u001b[1;33m.\u001b[0m\u001b[0mrotate\u001b[0m\u001b[1;33m(\u001b[0m\u001b[0mradians\u001b[0m\u001b[1;33m(\u001b[0m\u001b[0mnoeud\u001b[0m\u001b[1;33m)\u001b[0m\u001b[1;33m,\u001b[0m\u001b[0mvector\u001b[0m\u001b[1;33m(\u001b[0m\u001b[1;36m0\u001b[0m\u001b[1;33m,\u001b[0m\u001b[1;36m0\u001b[0m\u001b[1;33m,\u001b[0m\u001b[1;36m1\u001b[0m\u001b[1;33m)\u001b[0m\u001b[1;33m)\u001b[0m\u001b[1;33m\u001b[0m\u001b[0m\n",
      "\u001b[0;31mModuleNotFoundError\u001b[0m: No module named 'vpython'"
     ],
     "output_type": "error"
    }
   ],
   "source": [
    "from vpython import *\n",
    "\n",
    "def init(perihelie,masse,vitesse,rayon,couleur,inclinaison,noeud,argument):\n",
    "    p=vector(perihelie,0,0)\n",
    "    a=p.rotate(radians(noeud),vector(0,0,1))\n",
    "    p=a.rotate(radians(argument),vector(0,0,1))\n",
    "    p=p.rotate(radians(inclinaison),a)\n",
    "    s=sphere(pos=p,radius=log10(rayon)*1e9,color=couleur,make_trail=True)\n",
    "    s.masse=masse\n",
    "    v=vector(0,vitesse,0)\n",
    "    a=v.rotate(radians(noeud),vector(0,0,1))\n",
    "    v=a.rotate(radians(argument),vector(0,0,1))\n",
    "    v=v.rotate(radians(inclinaison),a)\n",
    "    s.vitesse=v\n",
    "    return s\n",
    "\n",
    "G=6.7e-11\n",
    "\n",
    "astres=[]\n",
    "\n",
    "soleil=sphere(pos=vector(0,0,0),radius=log10(7e8)*1e9,color=color.yellow)\n",
    "soleil.masse=2.0e30\n",
    "soleil.vitesse=vector(0,0,0)\n",
    "astres.append(soleil)\n",
    "\n",
    "mercure=init(4.7e10,3.3e23,5.9e4,2.4e6,color.orange,7,48,29)\n",
    "astres.append(mercure)\n",
    "\n",
    "venus=init(1.1e11,4.9e24,3.5e4,6.1e6,color.white,3.4,77,55)\n",
    "astres.append(venus)\n",
    "\n",
    "terre=init(1.5e11,6.0e24,3.0e4,6.4e6,color.blue,0,175,288)\n",
    "astres.append(terre)\n",
    "\n",
    "mars=init(2.1e11,6.4e23,2.6e4,3.4e6,color.red,1.8,49,286)\n",
    "astres.append(mars)\n",
    "\n",
    "jupiter=init(7.4e11,1.9e27,1.3e4,7.0e7,color.cyan,1.3,100.6,275.1)\n",
    "astres.append(jupiter)\n",
    "\n",
    "saturne=init(1.3e12,5.6e26,1.0e4,5.8e7,color.cyan,2.5,113.7,338.7)\n",
    "astres.append(saturne)\n",
    "\n",
    "uranus=init(2.7e12,8.7e25,7.1e3,2.5e7,color.cyan,0.8,74.0,96.5)\n",
    "astres.append(uranus)\n",
    "\n",
    "neptune=init(4.4e12,1.0e26,5.5e3,2.4e7,color.blue,1.77,131.7,273.2)\n",
    "astres.append(neptune)\n",
    "\n",
    "dt=1e4\n",
    "\n",
    "while True:\n",
    "    rate(50)\n",
    "    for p in astres:\n",
    "        p.pos+=p.vitesse*dt\n",
    "    for p in astres:\n",
    "        p.acceleration=vector(0,0,0)\n",
    "        for q in astres:\n",
    "            if q is not p:\n",
    "                p.acceleration+=G*(q.pos-p.pos)*q.masse/(q.pos-p.pos).mag**3\n",
    "    for p in astres:\n",
    "        p.vitesse+=p.acceleration*dt"
   ]
  },
  {
   "cell_type": "code",
   "execution_count": null,
   "metadata": {},
   "outputs": [],
   "source": [
    ""
   ]
  }
 ],
 "metadata": {
  "kernelspec": {
   "display_name": "VPython",
   "language": "python",
   "name": "vpython"
  },
  "language_info": {
   "codemirror_mode": {
    "name": "ipython",
    "version": 3
   },
   "file_extension": ".py",
   "mimetype": "text/x-python",
   "name": "python",
   "nbconvert_exporter": "python",
   "pygments_lexer": "ipython3",
   "version": "3.5.2"
  }
 },
 "nbformat": 4,
 "nbformat_minor": 0
}
