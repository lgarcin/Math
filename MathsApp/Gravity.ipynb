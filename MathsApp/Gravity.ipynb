{
 "cells": [
  {
   "cell_type": "code",
   "execution_count": 1,
   "metadata": {
    "collapsed": false
   },
   "outputs": [
    {
     "data": {
      "application/javascript": [
       "require.undef(\"nbextensions/jquery-ui.custom.min\");"
      ],
      "text/plain": [
       "<IPython.core.display.Javascript object>"
      ]
     },
     "metadata": {},
     "output_type": "display_data"
    },
    {
     "data": {
      "application/javascript": [
       "require.undef(\"nbextensions/glow.2.1a.min\");"
      ],
      "text/plain": [
       "<IPython.core.display.Javascript object>"
      ]
     },
     "metadata": {},
     "output_type": "display_data"
    },
    {
     "data": {
      "application/javascript": [
       "require.undef(\"nbextensions/glow.2.1b.min\");"
      ],
      "text/plain": [
       "<IPython.core.display.Javascript object>"
      ]
     },
     "metadata": {},
     "output_type": "display_data"
    },
    {
     "data": {
      "application/javascript": [
       "require.undef(\"nbextensions/glowcomm\");"
      ],
      "text/plain": [
       "<IPython.core.display.Javascript object>"
      ]
     },
     "metadata": {},
     "output_type": "display_data"
    },
    {
     "data": {
      "application/javascript": [
       "require([\"nbextensions/glowcomm\"], function(){console.log(\"glowcomm loaded\");})"
      ],
      "text/plain": [
       "<IPython.core.display.Javascript object>"
      ]
     },
     "metadata": {},
     "output_type": "display_data"
    },
    {
     "data": {
      "text/html": [
       "<div id=\"glowscript\" class=\"glowscript\"></div>"
      ],
      "text/plain": [
       "<IPython.core.display.HTML object>"
      ]
     },
     "metadata": {},
     "output_type": "display_data"
    },
    {
     "data": {
      "application/javascript": [
       "window.__context = { glowscript_container: $(\"#glowscript\").removeAttr(\"id\")}"
      ],
      "text/plain": [
       "<IPython.core.display.Javascript object>"
      ]
     },
     "metadata": {},
     "output_type": "display_data"
    }
   ],
   "source": [
    "from random import normalvariate, uniform\n",
    "from vpython import sphere, vector, rate\n",
    "\n",
    "def distance2(a, b):\n",
    "    dx = a.pos.x - b.pos.x\n",
    "    dy = a.pos.y - b.pos.y\n",
    "    dz = a.pos.z - b.pos.z\n",
    "    return dx * dx + dy * dy + dz * dz\n",
    "\n",
    "def getClique(ball, partition):\n",
    "    for p in partition:\n",
    "        if ball in p:\n",
    "            return p\n",
    "\n",
    "def merge(l):\n",
    "    pos = vector(0, 0, 0)\n",
    "    vel = vector(0, 0, 0)\n",
    "    s = 0\n",
    "    for b in l:\n",
    "        s = s + b.mass\n",
    "        pos += b.mass * b.pos\n",
    "        vel += b.mass * b.velocity\n",
    "    rad = s ** (1. / 3)    \n",
    "    ball = sphere(pos=pos / s, radius=rad,make_trail=True,retain=50)\n",
    "    ball.trail_radius=ball.radius/3\n",
    "    ball.velocity = vel / s\n",
    "    ball.mass = s\n",
    "    ball.radius = rad\n",
    "    return ball\n",
    "\n",
    "ballList = []\n",
    "n = 100\n",
    "G = 100\n",
    "dt = .01\n",
    "\n",
    "dpos = 10\n",
    "dvel = 5\n",
    "rad = .5\n",
    "\n",
    "for i in range(n):\n",
    "    x = normalvariate(0, dpos)\n",
    "    y = normalvariate(0, dpos)\n",
    "    z = normalvariate(0, dpos)\n",
    "    vx = uniform(-dvel, dvel)\n",
    "    vy = uniform(-dvel, dvel)\n",
    "    vz = uniform(-dvel, dvel)\n",
    "    ball = sphere(pos=vector(x, y, z), radius=rad,make_trail=True,retain=50)\n",
    "    ball.trail_radius=ball.radius/3\n",
    "    ball.velocity = vector(vx, vy, vz)\n",
    "    ball.mass = ball.radius ** 3\n",
    "    ballList.append(ball)\n",
    "\n"
   ]
  },
  {
   "cell_type": "code",
   "execution_count": null,
   "metadata": {
    "collapsed": false
   },
   "outputs": [
    {
     "name": "stdout",
     "output_type": "stream",
     "text": [
      "87\n",
      "85\n",
      "68\n",
      "66\n",
      "65\n",
      "60\n",
      "52\n",
      "42\n"
     ]
    }
   ],
   "source": [
    "while True:\n",
    "    rate(100)\n",
    "    l = len(ballList)\n",
    "    for b in ballList:\n",
    "        b.pos += vector(b.velocity) * dt\n",
    "    collisions = [set([b]) for b in ballList]\n",
    "    copyList = list(ballList)\n",
    "    for b1 in ballList:\n",
    "        copyList.remove(b1)\n",
    "        for b2 in copyList:\n",
    "            d = distance2(b1, b2)\n",
    "            c = G * d ** (-3. / 2) * dt\n",
    "            b1.velocity += c * b2.mass * (b2.pos - b1.pos)\n",
    "            b2.velocity += c * b1.mass * (b1.pos - b2.pos)\n",
    "            if d < (b1.radius + b2.radius) ** 2:\n",
    "                p1 = getClique(b1, collisions)\n",
    "                p2 = getClique(b2, collisions)\n",
    "                if p1 is not p2:\n",
    "                    collisions.append(p1.union(p2))\n",
    "                    collisions.remove(p1)\n",
    "                    collisions.remove(p2)\n",
    "    for c in collisions:\n",
    "        if len(c) > 1:\n",
    "            ballList.append(merge(c))\n",
    "            for b in c:\n",
    "                ballList.remove(b)\n",
    "                b.visible=False\n",
    "                b.clear_trail()\n",
    "    if l != len(ballList):\n",
    "        print(len(ballList))\n"
   ]
  },
  {
   "cell_type": "code",
   "execution_count": null,
   "metadata": {
    "collapsed": true
   },
   "outputs": [],
   "source": []
  }
 ],
 "metadata": {
  "kernelspec": {
   "display_name": "VPython",
   "language": "python",
   "name": "vpython"
  },
  "language_info": {
   "codemirror_mode": {
    "name": "ipython",
    "version": 3
   },
   "file_extension": ".py",
   "mimetype": "text/x-python",
   "name": "python",
   "nbconvert_exporter": "python",
   "pygments_lexer": "ipython3",
   "version": "3.5.2"
  }
 },
 "nbformat": 4,
 "nbformat_minor": 1
}
